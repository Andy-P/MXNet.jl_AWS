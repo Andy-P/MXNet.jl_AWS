{
 "cells": [
  {
   "cell_type": "markdown",
   "metadata": {},
   "source": [
    "Getting setup\n",
    "=======\n",
    "You will need to [sign up for an AWS account](https://aws.amazon.com/).\n",
    "Sign up is free."
   ]
  },
  {
   "cell_type": "markdown",
   "metadata": {},
   "source": [
    "Using a preloaded AMI\n",
    "=====\n",
    "\n",
    "MXNet requires several libraries.  These can be tricky to install (particularly CUDNN) so the good folks at MXNet have preload an AMI with\n",
    "- C++ compiler with C++11 suports, such as gcc >= 4.8\n",
    "- CUDA (CUDNN in optional) for GPU linear algebra\n",
    "- BLAS (cblas, open-blas, atblas, mkl, or others) for CPU linear algebra\n",
    "- opencv for image augmentations\n",
    "- curl and openssl for read/write Amazon S3\n",
    "\n",
    "\n",
    "\n",
    "This link https://console.aws.amazon.com/ec2/v2/home?region=us-east-1#LaunchInstanceWizard:ami=ami-12fd8178\n",
    "will take you to the proper AMI. At the moment, this AMI is only available in the US-EAST zone but it shoudn't be too hard to copy it to others.\n",
    "\n",
    "\n"
   ]
  },
  {
   "cell_type": "markdown",
   "metadata": {
    "collapsed": true
   },
   "source": [
    "Request a GPU Spot Instance\n",
    "=====\n",
    "\n",
    "#### 1. Scroll down, select the \"g2.2xLarge\" instance and then \"Next: Configure Instance Details\"\n",
    "For now we are going to use the smaller of the two GPU instance. But I encourge you to try out the large 8x (K40) should you feel you need.\n",
    "\n",
    "**Pro tip:** If you are running thorugh this guide for the first time use a free or almost free micro instance. Once you gone through it without any errors, pay up for the full monty.\n",
    "\n",
    "<img src=\"images/AWS_Spot_3.png\" align=left>"
   ]
  },
  {
   "cell_type": "markdown",
   "metadata": {
    "collapsed": true
   },
   "source": [
    "#### 2. Request a spot intstance \n",
    "You should be on the \"Step 3: Configure Instance Details\" now.\n",
    "\n",
    "We'll be using a spot instance as this is usually much cheaper. **Check the spot instance** beside purchasing options\n",
    "\n",
    "<img src=\"images/AWS_Spot_4.png\" align=left>"
   ]
  },
  {
   "cell_type": "markdown",
   "metadata": {},
   "source": [
    "#### 3. Set your maximum price.\n",
    "You'll need to place your bid for a spot instance. You can get an idea of current prices by looking at the price in the \"current prices\". **NOTE** That is the *current* price. You need to fill in the **Maximum Price** you are will pay. If the price of spot goes above this, your instance may be shut down. \n",
    "\n",
    "**g2.2xlarge:**\n",
    "According to the [Spot bid advisor](https://aws.amazon.com/ec2/spot/bid-advisor/) you chances of being booted with a g2.2xlarge instance when your max price is 50% of the \"On-Demand\" instance is **low**. At the g2.2xlarge tier the On-Demand\" instance is \\\\$0.70. So we'll go with a max price or **\\$0.35**.\n",
    "\n",
    "**g2.8xlarge:**\n",
    "The g2.8xlarge on-demand price is currently \\$2.60. There is also more demand for this instance. Entering a max price of 50% of the on-demand price puts you in the MEDIUM probabilty of being out bid. If your ok with this, I suggest **\\$1.30**\n",
    "<img src=\"images/AWS_Spot_5.png\" align=left>"
   ]
  },
  {
   "cell_type": "markdown",
   "metadata": {},
   "source": [
    "#### 4. Add Storage if needed\n",
    "\n",
    "The default here is 8GBs of storage. If your AWS account is less than 1yr old, you can use up to 30 GBs for free. After that prices are still quite resonable. So how much is enough? 8 Gbs is way more than enough for Julia, MXNet and everything else you will need beside your data.\n",
    "\n",
    "<img src=\"images/AWS_Spot_6.png\" align=left>"
   ]
  },
  {
   "cell_type": "markdown",
   "metadata": {},
   "source": [
    "#### To S3 or not to S3?\n",
    "\n",
    "MXNet + AWS has a real nice feature. You can store you data in a persistant S3 storage and then point your instance at it. Amazon S3 is distributed data storage, which is quite convenient for host large scale datasets. However, in order to use S3 you need to set some MXNEt environment variables. [Details are here](http://mxnet.readthedocs.org/en/latest/aws.html#use-amazon-s3-to-host-data)\n",
    "\n",
    "You have two other option. The first is just to import your data each time you start the instance. This is very simple to do with dropbox or a some other public data source. Load time are very quick and sometime the simplest solution is best. The other option is to store your data on the root drive and save it with your instance when you store it as an AMI. Either way you will need to budget addtional storage for your data. How much depends on your data. [add pre data storage size and discuss] "
   ]
  },
  {
   "cell_type": "markdown",
   "metadata": {},
   "source": [
    "#### 5: Tag Spot Request\n",
    "skip past 'Step 5: Tag Spot Request' unless you need to tag. and on to the 'Configure Security Group'."
   ]
  },
  {
   "cell_type": "markdown",
   "metadata": {},
   "source": [
    "#### 6: Configure Security Group\n",
    "\n",
    "Skip past 'Step 5: Tag Spot Request' unless you need to tag. and on to the 'Configure Security Group'.\n",
    "\n",
    "\n",
    "<img src=\"images/AWS_Spot_7.png\" align=left>"
   ]
  },
  {
   "cell_type": "markdown",
   "metadata": {},
   "source": [
    "ec2-23-20-65-83.compute-1.amazonaws.com"
   ]
  },
  {
   "cell_type": "markdown",
   "metadata": {},
   "source": [
    "#### Download you key"
   ]
  },
  {
   "cell_type": "markdown",
   "metadata": {},
   "source": [
    "#### Waiting for your instance\n",
    "Your instance will have a stauts on pending until it has been approved. At that point the status will chnage to active. This doesn't mean your instance is ready. It just means it has begun to spin up. \n",
    "Click in the intance id to go to the instance monitor.\n",
    "\n",
    "<img src=\"images/AWS_Spot_8.png\" align=left>"
   ]
  },
  {
   "cell_type": "markdown",
   "metadata": {},
   "source": [
    "#### Find your public DNS\n",
    "Your instance will have a stauts on pending until it has been approved. At that point the status will chnage to active. This doesn't mean your instance is ready. It just means it has begun to spin up. \n",
    "click in the intance idea to go to the instance monitor. \n",
    "\n",
    "<img src=\"images/AWS_Spot_9.png\" align=left>"
   ]
  },
  {
   "cell_type": "markdown",
   "metadata": {},
   "source": [
    "Setting up your instance\n",
    "====\n",
    "Open a terminal and switch to the folder where you stored your AWS key\n",
    "\n",
    "\n",
    "    ...\n",
    "     cd /Users/andrep/Documents/AWS_Key\n",
    "     chmod 400 MX_Spot.pem\n",
    "     ssh -v -i MX_Spot.pem ubuntu@ec2-23-20-207-135.compute-1.amazonaws.com\n",
    "    ... \n",
    "    \n",
    "    \n",
    "You should see output ending in \n",
    "\n",
    "    ...\n",
    "     The authenticity of host 'ec2-23-20-207-135.compute-1.amazonaws.com (23.20.207.135)' can't be established.\n",
    "     RSA key fingerprint is 87:92:bf:57:c1:a1:84:74:06:27:b5:64:a1:04:b2:ae.\n",
    "     Are you sure you want to continue connecting (yes/no)?\n",
    "    ... \n",
    "\n",
    "Type '**yes**' and enter. You should see a confirmation, and lot of information and finally your prompt should change to your new AWS instance.\n",
    "    ...\n",
    "\n",
    "    ubuntu@ip-10-47-202-184:~$  \n",
    "    \n",
    "\n",
    "*note: your ip will be different from mine*\n",
    "\n",
    "##### if you got this far, congradulations! You have a working AWS GPU instance!    "
   ]
  },
  {
   "cell_type": "markdown",
   "metadata": {
    "collapsed": false
   },
   "source": [
    "Setting up MXNet\n",
    "===\n",
    "\n",
    "[The official MXNet AWS document is here](http://mxnet.readthedocs.org/en/latest/aws.html)\n",
    "\n",
    "Here is the condensed version. Run the following two commands.\n",
    "\n",
    "    sudo apt-get update\n",
    "    sudo apt-get install -y build-essential git libcurl4-openssl-dev libatlas-base-dev libopencv-dev python-numpy\n",
    "    \n",
    "This will install all the tools and dependancies needed to build MXNet. Running these two should only take about 1-2 min.\n",
    "\n",
    "##### Now you are ready to install MXNet\n",
    "\n",
    "Run the following to install and make MXNet. \n",
    "\n",
    "    git clone --recursive https://github.com/dmlc/mxnet\n",
    "    cd mxnet; cp make/config.mk .\n",
    "    echo \"USE_CUDA=1\" >>config.mk\n",
    "    echo \"USE_CUDA_PATH=/usr/local/cuda\" >>config.mk\n",
    "    echo \"USE_CUDNN=1\" >>config.mk\n",
    "    echo \"USE_BLAS=atlas\" >> config.mk\n",
    "    echo \"USE_DIST_KVSTORE = 1\" >>config.mk\n",
    "    \n",
    "\n",
    "If you intend to use S3 add this line \n",
    "\n",
    "    echo \"USE_S3=1\" >>config.mk\n",
    "    \n",
    "Finally, build MXNet...\n",
    "\n",
    "    make -j8\n",
    "\n",
    "The whole installation takes about 2 minutes. Congradulations. You have installed MXNet.\n",
    "if you have setup S3 you can run a python script (we still need to install Julia). This will fail if S3 isn't setup.\n",
    "\n",
    "    python tests/python/gpu/test_conv.py\n"
   ]
  },
  {
   "cell_type": "markdown",
   "metadata": {},
   "source": [
    "Installing Jupyter\n",
    "===\n",
    "\n",
    "Install Jupyter seperately and before installing IJulia will make the custom configurations easy. IJulia will automatically detect and use the installed Jupyter including the custom config. We're only need the minimal 'miniconda' installation. Use the following commands to download miniconda and install.\n",
    "\n",
    "    wget https://repo.continuum.io/miniconda/Miniconda-latest-Linux-x86_64.sh\n",
    "    bash Miniconda-latest-Linux-x86_64.sh\n",
    "    \n",
    "You will be prompted with a license message. Click through that to until you get to the \"Do you agree\" and type 'yes'. You will also be prompted for a location. Just hit enter and select the default locations. Final, you'll be asked whether 'you wish the installer to prepend the Miniconda2 install location?\" Select 'yes'.    \n",
    "\n",
    "Once you're done with this, you will need to log out once and then log back in to have your conda commands recognized. Type ctrl+d to log out.  Then use the same log in command as above to log back in.\n",
    "\n",
    "    ssh -i MX_Spot.pem ubuntu@[your public DNS]\n",
    "    \n",
    "Now we're ready to install Jupyter. Using the following command.\n",
    "\n",
    "    conda install jupyter\n",
    "    \n",
    "Type 'yes' when prompted about the installations. The whole installation will take about 2 min."
   ]
  },
  {
   "cell_type": "markdown",
   "metadata": {
    "collapsed": false
   },
   "source": [
    "Configuring AWS <-> Jupyter remote access\n",
    "===\n",
    "\n",
    "There are three steps to this. \n",
    "\n",
    "1. Setup an openssl certificate\n",
    "2. Generate a sha password\n",
    "3. Generate and customize a Jupyter config file\n",
    "\n",
    "### 1. Setup a certificate\n",
    "\n",
    "From your prompt create a new directory and change to it.\n",
    "    \n",
    "    mkdir ~/certificates\n",
    "    cd ~/certificates\n",
    "    \n",
    "Now create a certificate\n",
    "\n",
    "    openssl req -x509 -nodes -days 365 -newkey rsa:1024 -keyout mycert.pem -out mycert.pem\n",
    "    \n",
    "    cd ..\n",
    "\n",
    "You'll be prompted for 7 items of information. Just hit enter to select the defaults. \n",
    "\n",
    "### 2. SHA password\n",
    "\n",
    "Start up IPython and use it to generate a SHA password.\n",
    "\n",
    "    ipython\n",
    "\n",
    "From within IPython run these two lines. \n",
    "\n",
    "    from IPython.lib import passwd\n",
    "    passwd()\n",
    "    \n",
    "You will be prompted for a password. I'm going to chose '**JuilaMxnetAws**'. This will generate a SHA password. Mine was...\n",
    "\n",
    "    'sha1:42c2278aaacf:33ed67eaa908630876bb7e80ea68eb855a3c5d73'\n",
    "    \n",
    "Take note of your SHA password and the one you entered. You will need them for the config and remote log in. Leave  ipython by typing...\n",
    "\n",
    "    exit()\n",
    "\n",
    "### 3. Create a config file\n",
    "\n",
    "To create a default config file and begin editing it enter the following\n",
    "\n",
    "    jupyter notebook --generate-config\n",
    "    cd .jupyter/ \n",
    "    vim jupyter_notebook_config.py\n",
    "\n",
    "This will put you into the vim text editor. Now, I have to confess I'm not a vim guy. If there is a better way to do this please let me know.\n",
    "\n",
    "1. Use **Shift + G** to move to the end of the file.\n",
    "2. Type 'o' to enter insert mode and enter the following text. Be sure to replace the SHA with the passowrd you generated above.\n",
    "\n",
    "        c = get_config()\n",
    "\n",
    "        # Kernel config\n",
    "        c.IPKernelApp.pylab = 'inline'  # if you want plotting support always\n",
    "\n",
    "        # Notebook config\n",
    "        c.NotebookApp.certfile = u'/home/ubuntu/certificates/mycert.pem'\n",
    "        c.NotebookApp.ip = '*'\n",
    "        c.NotebookApp.open_browser = False\n",
    "        c.NotebookApp.password = u'sha1:42c2278aaacf:33ed67eaa908630876bb7e80ea68eb855a3c5d73'\n",
    "\n",
    "        # It is a good idea to put it on a known, fixed port\n",
    "        c.NotebookApp.port = 8998\n",
    "\n",
    "3. Save and exit your file by typing **ESC**, then '**:wq**'  \n"
   ]
  },
  {
   "cell_type": "code",
   "execution_count": null,
   "metadata": {
    "collapsed": true
   },
   "outputs": [],
   "source": []
  }
 ],
 "metadata": {
  "kernelspec": {
   "display_name": "Julia 0.4.1",
   "language": "julia",
   "name": "julia-0.4"
  },
  "language_info": {
   "file_extension": ".jl",
   "mimetype": "application/julia",
   "name": "julia",
   "version": "0.4.1"
  }
 },
 "nbformat": 4,
 "nbformat_minor": 0
}
